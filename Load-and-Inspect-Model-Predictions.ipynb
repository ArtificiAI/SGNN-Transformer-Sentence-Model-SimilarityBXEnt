{
 "cells": [
  {
   "cell_type": "markdown",
   "metadata": {},
   "source": [
    "# Visualizing/inspecting the learning rate over time and what the model learned"
   ]
  },
  {
   "cell_type": "code",
   "execution_count": 1,
   "metadata": {},
   "outputs": [
    {
     "name": "stdout",
     "output_type": "stream",
     "text": [
      "Mon Jan 14 03:57:40 2019       \r\n",
      "+-----------------------------------------------------------------------------+\r\n",
      "| NVIDIA-SMI 410.79       Driver Version: 410.79       CUDA Version: 10.0     |\r\n",
      "|-------------------------------+----------------------+----------------------+\r\n",
      "| GPU  Name        Persistence-M| Bus-Id        Disp.A | Volatile Uncorr. ECC |\r\n",
      "| Fan  Temp  Perf  Pwr:Usage/Cap|         Memory-Usage | GPU-Util  Compute M. |\r\n",
      "|===============================+======================+======================|\r\n",
      "|   0  GeForce GTX 108...  Off  | 00000000:02:00.0 Off |                  N/A |\r\n",
      "|  0%   32C    P8    17W / 280W |   9470MiB / 11178MiB |      0%      Default |\r\n",
      "+-------------------------------+----------------------+----------------------+\r\n",
      "|   1  GeForce GTX 108...  Off  | 00000000:81:00.0 Off |                  N/A |\r\n",
      "|  0%   30C    P8    16W / 280W |     10MiB / 11178MiB |      0%      Default |\r\n",
      "+-------------------------------+----------------------+----------------------+\r\n",
      "                                                                               \r\n",
      "+-----------------------------------------------------------------------------+\r\n",
      "| Processes:                                                       GPU Memory |\r\n",
      "|  GPU       PID   Type   Process name                             Usage      |\r\n",
      "|=============================================================================|\r\n",
      "|    0      9591      C   ...o/miniconda3/envs/tensorflow/bin/python   737MiB |\r\n",
      "|    0     14274      C   ...o/miniconda3/envs/tensorflow/bin/python  8723MiB |\r\n",
      "+-----------------------------------------------------------------------------+\r\n"
     ]
    }
   ],
   "source": [
    "!nvidia-smi"
   ]
  },
  {
   "cell_type": "code",
   "execution_count": 2,
   "metadata": {},
   "outputs": [
    {
     "name": "stdout",
     "output_type": "stream",
     "text": [
      "pytest\r\n",
      "pytest-cov\r\n",
      "joblib\r\n",
      "torch==1.0.0\r\n",
      "torchvision==0.2.1\r\n",
      "scikit-learn==0.20.1\r\n",
      "numpy==1.15.4\r\n"
     ]
    }
   ],
   "source": [
    "# !pip install joblib\n",
    "# !echo \"joblib\" >> requirements.txt\n",
    "# !pip freeze | grep -i torch >> requirements.txt\n",
    "# !pip freeze | grep -i numpy >> requirements.txt\n",
    "!cat requirements.txt"
   ]
  },
  {
   "cell_type": "code",
   "execution_count": 3,
   "metadata": {},
   "outputs": [],
   "source": [
    "from src.data.read_txt import *\n",
    "from src.data.config import *\n",
    "from src.data.training_data import *\n",
    "from src.data.sgnn_projection_layer import *\n",
    "from src.model.loss import *\n",
    "from src.model.transformer import *\n",
    "from src.model.save_load_model import *\n",
    "from src.training import *\n",
    "\n",
    "import numpy as np\n",
    "from sklearn.metrics import jaccard_similarity_score, f1_score, accuracy_score\n",
    "from joblib import dump, load\n",
    "import torch\n",
    "import torch.nn as nn\n",
    "import torch.nn.functional as F\n",
    "from torch.autograd import Variable\n",
    "import matplotlib.pyplot as plt\n",
    "\n",
    "import math\n",
    "import copy\n",
    "import time"
   ]
  },
  {
   "cell_type": "code",
   "execution_count": 4,
   "metadata": {},
   "outputs": [],
   "source": [
    "batch_size = 160\n",
    "train_iters_per_epoch = 24000\n",
    "max_epoch = 11\n",
    "cuda_device_id = 1  # None for CPU, 0 for first GPU, 1 for second GPU, etc."
   ]
  },
  {
   "cell_type": "code",
   "execution_count": 5,
   "metadata": {},
   "outputs": [
    {
     "name": "stdout",
     "output_type": "stream",
     "text": [
      "my-model.pytorch.epoch_00000.notebook_run.gpu0\r\n",
      "my-model.pytorch.epoch_00000.notebook_run.gpu1\r\n",
      "my-model.pytorch.epoch_00001.notebook_run.gpu0\r\n",
      "my-model.pytorch.epoch_00001.notebook_run.gpu1\r\n",
      "my-model.pytorch.epoch_00002.notebook_run.gpu0\r\n",
      "my-model.pytorch.epoch_00002.notebook_run.gpu1\r\n",
      "my-model.pytorch.epoch_00003.notebook_run.gpu0\r\n",
      "my-model.pytorch.epoch_00003.notebook_run.gpu1\r\n",
      "my-model.pytorch.epoch_00004.notebook_run.gpu0\r\n",
      "my-model.pytorch.epoch_00004.notebook_run.gpu1\r\n",
      "my-model.pytorch.epoch_00005.notebook_run.gpu0\r\n",
      "my-model.pytorch.epoch_00005.notebook_run.gpu1\r\n",
      "my-model.pytorch.epoch_00006.notebook_run.gpu0\r\n",
      "my-model.pytorch.epoch_00006.notebook_run.gpu1\r\n",
      "my-model.pytorch.epoch_00007.notebook_run.gpu0\r\n",
      "my-model.pytorch.epoch_00007.notebook_run.gpu1\r\n",
      "my-model.pytorch.epoch_00008.notebook_run.gpu0\r\n",
      "my-model.pytorch.epoch_00008.notebook_run.gpu1\r\n",
      "my-model.pytorch.epoch_00009.notebook_run.gpu0\r\n",
      "my-model.pytorch.epoch_00009.notebook_run.gpu1\r\n",
      "my-model.pytorch.epoch_00010.notebook_run.gpu0\r\n",
      "my-model.pytorch.epoch_00010.notebook_run.gpu1\r\n",
      "my-model.pytorch.epoch_00011.notebook_run.gpu0\r\n",
      "my-model.pytorch.epoch_00011.notebook_run.gpu1\r\n",
      "my-model.pytorch.epoch_00012.notebook_run.gpu1\r\n",
      "my-model.pytorch.epoch_00013.notebook_run.gpu1\r\n",
      "my-model.pytorch.epoch_00014.notebook_run.gpu1\r\n",
      "my-model.pytorch.epoch_00015.notebook_run.gpu1\r\n",
      "my-model.pytorch.epoch_00016.notebook_run.gpu1\r\n",
      "my-model.pytorch.epoch_00017.notebook_run.gpu1\r\n",
      "my-model.pytorch.epoch_00018.notebook_run.gpu1\r\n",
      "my-model.pytorch.epoch_00019.notebook_run.gpu1\r\n",
      "my-model.pytorch.epoch_00020.notebook_run.gpu1\r\n",
      "my-model.pytorch.epoch_00021.notebook_run.gpu1\r\n",
      "my-model.pytorch.epoch_00022.notebook_run.gpu1\r\n",
      "my-model.pytorch.epoch_00023.notebook_run.gpu1\r\n",
      "my-model.sklearn.epoch_00000.notebook_run.gpu0\r\n",
      "my-model.sklearn.epoch_00000.notebook_run.gpu1\r\n",
      "my-model.sklearn.epoch_00001.notebook_run.gpu0\r\n",
      "my-model.sklearn.epoch_00001.notebook_run.gpu1\r\n",
      "my-model.sklearn.epoch_00002.notebook_run.gpu0\r\n",
      "my-model.sklearn.epoch_00002.notebook_run.gpu1\r\n",
      "my-model.sklearn.epoch_00003.notebook_run.gpu0\r\n",
      "my-model.sklearn.epoch_00003.notebook_run.gpu1\r\n",
      "my-model.sklearn.epoch_00004.notebook_run.gpu0\r\n",
      "my-model.sklearn.epoch_00004.notebook_run.gpu1\r\n",
      "my-model.sklearn.epoch_00005.notebook_run.gpu0\r\n",
      "my-model.sklearn.epoch_00005.notebook_run.gpu1\r\n",
      "my-model.sklearn.epoch_00006.notebook_run.gpu0\r\n",
      "my-model.sklearn.epoch_00006.notebook_run.gpu1\r\n",
      "my-model.sklearn.epoch_00007.notebook_run.gpu0\r\n",
      "my-model.sklearn.epoch_00007.notebook_run.gpu1\r\n",
      "my-model.sklearn.epoch_00008.notebook_run.gpu0\r\n",
      "my-model.sklearn.epoch_00008.notebook_run.gpu1\r\n",
      "my-model.sklearn.epoch_00009.notebook_run.gpu0\r\n",
      "my-model.sklearn.epoch_00009.notebook_run.gpu1\r\n",
      "my-model.sklearn.epoch_00010.notebook_run.gpu0\r\n",
      "my-model.sklearn.epoch_00010.notebook_run.gpu1\r\n",
      "my-model.sklearn.epoch_00011.notebook_run.gpu0\r\n",
      "my-model.sklearn.epoch_00011.notebook_run.gpu1\r\n",
      "my-model.sklearn.epoch_00012.notebook_run.gpu1\r\n",
      "my-model.sklearn.epoch_00013.notebook_run.gpu1\r\n",
      "my-model.sklearn.epoch_00014.notebook_run.gpu1\r\n",
      "my-model.sklearn.epoch_00015.notebook_run.gpu1\r\n",
      "my-model.sklearn.epoch_00016.notebook_run.gpu1\r\n",
      "my-model.sklearn.epoch_00017.notebook_run.gpu1\r\n",
      "my-model.sklearn.epoch_00018.notebook_run.gpu1\r\n",
      "my-model.sklearn.epoch_00019.notebook_run.gpu1\r\n",
      "my-model.sklearn.epoch_00020.notebook_run.gpu1\r\n",
      "my-model.sklearn.epoch_00021.notebook_run.gpu1\r\n",
      "my-model.sklearn.epoch_00022.notebook_run.gpu1\r\n",
      "my-model.sklearn.epoch_00023.notebook_run.gpu1\r\n"
     ]
    }
   ],
   "source": [
    "!ls -1 models_weights/"
   ]
  },
  {
   "cell_type": "code",
   "execution_count": 6,
   "metadata": {},
   "outputs": [
    {
     "name": "stdout",
     "output_type": "stream",
     "text": [
      "Loaded model from files: ./models_weights/my-model.sklearn.epoch_00011.notebook_run.gpu0 ./models_weights/my-model.pytorch.epoch_00011.notebook_run.gpu0\n"
     ]
    }
   ],
   "source": [
    "preproc_sgnn_sklearn_pipeline, sentence_projection_model = load_model(\n",
    "    \"my-model{}.epoch_00011.notebook_run.gpu0\", cuda_device_id)\n",
    "# preproc_sgnn_sklearn_pipeline, sentence_projection_model = load_most_recent_model(MY_MODEL_NAME, cuda_device_id)"
   ]
  },
  {
   "cell_type": "code",
   "execution_count": 7,
   "metadata": {},
   "outputs": [],
   "source": [
    "model_trainer = TrainerModel(sentence_projection_model)"
   ]
  },
  {
   "cell_type": "markdown",
   "metadata": {},
   "source": [
    "## Visualize the learning rate over time"
   ]
  },
  {
   "cell_type": "code",
   "execution_count": 8,
   "metadata": {},
   "outputs": [
    {
     "data": {
      "image/png": "[encoded data removed]",
      "text/plain": [
       "<Figure size 432x288 with 1 Axes>"
      ]
     },
     "metadata": {
      "needs_background": "light"
     },
     "output_type": "display_data"
    }
   ],
   "source": [
    "# Some code may derive from: https://github.com/harvardnlp/annotated-transformer\n",
    "# MIT License, Copyright (c) 2018 Alexander Rush\n",
    "\n",
    "import matplotlib.pyplot as plt\n",
    "# Three settings of the lrate hyperparameters.\n",
    "opts = [NoamOpt(512, 1, 4000, None), \n",
    "        NoamOpt(512, 1, 8000, None),\n",
    "        NoamOpt(256, 1, 4000, None),\n",
    "        get_std_opt(model_trainer)]\n",
    "plt.plot(\n",
    "    np.arange(1, train_iters_per_epoch * max_epoch),\n",
    "    [[opt.rate(i) for opt in opts] for i in range(1, train_iters_per_epoch * max_epoch)]\n",
    ")\n",
    "plt.title(\"Learning rate warmup and decay through the 100k time steps.\")\n",
    "plt.legend([\"512:4000\", \"512:8000\", \"256:4000\", \"The one I use\"])\n",
    "plt.show()"
   ]
  },
  {
   "cell_type": "markdown",
   "metadata": {},
   "source": [
    "## Visualize results on some custom data"
   ]
  },
  {
   "cell_type": "code",
   "execution_count": 9,
   "metadata": {},
   "outputs": [
    {
     "name": "stdout",
     "output_type": "stream",
     "text": [
      "Matrices are symmetric, so on each border is a sentence dotted with annother one in similarity to get something that is almost like covariance of each sentences to each other. We should observe 2x2 activated blocks along the diagonal. The loss function is a binary cross-entropy on this sentence-to-sentence similarity grid we see. I seem to have invented a new similarity loss function but it probably already exists...\n"
     ]
    },
    {
     "data": {
      "image/png": "[encoded data removed]",
      "text/plain": [
       "<Figure size 432x288 with 2 Axes>"
      ]
     },
     "metadata": {
      "needs_background": "light"
     },
     "output_type": "display_data"
    },
    {
     "data": {
      "image/png": "[encoded data removed]",
      "text/plain": [
       "<Figure size 432x288 with 1 Axes>"
      ]
     },
     "metadata": {
      "needs_background": "light"
     },
     "output_type": "display_data"
    },
    {
     "data": {
      "image/png": "[encoded data removed]",
      "text/plain": [
       "<Figure size 432x288 with 1 Axes>"
      ]
     },
     "metadata": {
      "needs_background": "light"
     },
     "output_type": "display_data"
    },
    {
     "name": "stdout",
     "output_type": "stream",
     "text": [
      "Compute the 2D overlap in the matrix:\n",
      "test_jaccard_score: 0.885\n",
      "test_f1_score: 0.5306122448979592\n",
      "test_accuracy_score: 0.885\n"
     ]
    }
   ],
   "source": [
    "sentences_raw = (\n",
    "    \"This is a test. This is another test. \"\n",
    "    \"I like bacon. I don't like bacon. \"\n",
    "    \"My name is Guillaume. My family name is Chevalier. \"\n",
    "    \"Programming can be used for solving complicated math problems. Let's use the Python language to write some scientific code. \"\n",
    "    \"My family regrouped for Christmast. We met aunts and uncles. \"\n",
    "    \"I like linux. I have an operating system. \"\n",
    "    \"Have you ever been in the situation where you've got Jupyter notebooks (iPython notebooks) so huge that you were feeling stuck in your code?. Or even worse: have you ever found yourself duplicating your notebook to do changes, and then ending up with lots of badly named notebooks?. \"\n",
    "    \"Either and in any ways. For every medium to big application. \"\n",
    "    \"If you're working with notebooks, it is highly likely that you're doing research and development. If doing research and development, to keep your amazing-10x-working-speed-multiplier, it might be a good idea to skip unit tests. \"\n",
    "    \"I hope you were satisfied by this reading. What would you do?.\"\n",
    ").split(\". \")  # each 2 sentence (pairs) above are similar, so we have 10 pairs as such:\n",
    "category_per_sentence = [0, 0, 1, 1, 2, 2, 3, 3, 4, 4, 5, 5, 6, 6, 7, 7, 8, 8, 9, 9]\n",
    "\n",
    "plot_a_result(\n",
    "    category_per_sentence, cuda_device_id, preproc_sgnn_sklearn_pipeline, \n",
    "    sentence_projection_model, sentences_raw)"
   ]
  },
  {
   "cell_type": "markdown",
   "metadata": {},
   "source": [
    "The last plot is the expected diagonal block matrix (blocs of 2x2), and the top plot is the prediction. Mid plot is what is above 1 std in the prediction."
   ]
  }
 ],
 "metadata": {
  "kernelspec": {
   "display_name": "Python 3",
   "language": "python",
   "name": "python3"
  },
  "language_info": {
   "codemirror_mode": {
    "name": "ipython",
    "version": 3
   },
   "file_extension": ".py",
   "mimetype": "text/x-python",
   "name": "python",
   "nbconvert_exporter": "python",
   "pygments_lexer": "ipython3",
   "version": "3.6.7"
  }
 },
 "nbformat": 4,
 "nbformat_minor": 2
}
